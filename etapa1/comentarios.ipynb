{
 "cells": [
  {
   "cell_type": "code",
   "execution_count": 1,
   "metadata": {},
   "outputs": [
    {
     "name": "stdout",
     "output_type": "stream",
     "text": [
      "Defaulting to user installation because normal site-packages is not writeable\n",
      "Collecting textblob\n",
      "  Downloading textblob-0.19.0-py3-none-any.whl (624 kB)\n",
      "\u001b[2K     \u001b[90m━━━━━━━━━━━━━━━━━━━━━━━━━━━━━━━━━━━━━━━\u001b[0m \u001b[32m624.3/624.3 KB\u001b[0m \u001b[31m4.8 MB/s\u001b[0m eta \u001b[36m0:00:00\u001b[0ma \u001b[36m0:00:01\u001b[0m\n",
      "\u001b[?25hCollecting nltk>=3.9\n",
      "  Downloading nltk-3.9.1-py3-none-any.whl (1.5 MB)\n",
      "\u001b[2K     \u001b[90m━━━━━━━━━━━━━━━━━━━━━━━━━━━━━━━━━━━━━━━━\u001b[0m \u001b[32m1.5/1.5 MB\u001b[0m \u001b[31m16.9 MB/s\u001b[0m eta \u001b[36m0:00:00\u001b[0ma \u001b[36m0:00:01\u001b[0m\n",
      "\u001b[?25hRequirement already satisfied: click in /home/rfahham/.local/lib/python3.10/site-packages (from nltk>=3.9->textblob) (8.1.7)\n",
      "Requirement already satisfied: tqdm in /home/rfahham/.local/lib/python3.10/site-packages (from nltk>=3.9->textblob) (4.66.5)\n",
      "Requirement already satisfied: joblib in /home/rfahham/.local/lib/python3.10/site-packages (from nltk>=3.9->textblob) (1.4.2)\n",
      "Collecting regex>=2021.8.3\n",
      "  Downloading regex-2024.11.6-cp310-cp310-manylinux_2_17_x86_64.manylinux2014_x86_64.whl (781 kB)\n",
      "\u001b[2K     \u001b[90m━━━━━━━━━━━━━━━━━━━━━━━━━━━━━━━━━━━━━━\u001b[0m \u001b[32m781.7/781.7 KB\u001b[0m \u001b[31m19.2 MB/s\u001b[0m eta \u001b[36m0:00:00\u001b[0m00:01\u001b[0m\n",
      "\u001b[?25hInstalling collected packages: regex, nltk, textblob\n",
      "Successfully installed nltk-3.9.1 regex-2024.11.6 textblob-0.19.0\n"
     ]
    }
   ],
   "source": [
    "! pip install textblob"
   ]
  },
  {
   "cell_type": "code",
   "execution_count": 2,
   "metadata": {},
   "outputs": [
    {
     "name": "stdout",
     "output_type": "stream",
     "text": [
      "Comentário: A qualidade do som é excelente, mas a bateria poderia durar mais.\n",
      "→ Sentimento: Neutro\n",
      "\n",
      "Comentário: Produto péssimo. Parou de funcionar em uma semana.\n",
      "→ Sentimento: Neutro\n",
      "\n",
      "Comentário: Muito confortável, uso por horas sem incômodo. A bateria dura bem!\n",
      "→ Sentimento: Neutro\n",
      "\n",
      "Comentário: Demorou para chegar, mas funciona perfeitamente.\n",
      "→ Sentimento: Neutro\n",
      "\n",
      "Comentário: Som muito fraco e não conecta direito com o celular.\n",
      "→ Sentimento: Neutro\n",
      "\n"
     ]
    }
   ],
   "source": [
    "from textblob import TextBlob\n",
    "\n",
    "# Lista de comentários dos clientes\n",
    "comentarios = [\n",
    "    \"A qualidade do som é excelente, mas a bateria poderia durar mais.\",\n",
    "    \"Produto péssimo. Parou de funcionar em uma semana.\",\n",
    "    \"Muito confortável, uso por horas sem incômodo. A bateria dura bem!\",\n",
    "    \"Demorou para chegar, mas funciona perfeitamente.\",\n",
    "    \"Som muito fraco e não conecta direito com o celular.\"\n",
    "]\n",
    "\n",
    "# Função para classificar sentimento\n",
    "def classificar_sentimento(texto):\n",
    "    blob = TextBlob(texto)\n",
    "    polaridade = blob.sentiment.polarity\n",
    "    if polaridade > 0:\n",
    "        return \"Positivo\"\n",
    "    elif polaridade < 0:\n",
    "        return \"Negativo\"\n",
    "    else:\n",
    "        return \"Neutro\"\n",
    "\n",
    "# Analisando todos os comentários\n",
    "for comentario in comentarios:\n",
    "    sentimento = classificar_sentimento(comentario)\n",
    "    print(f\"Comentário: {comentario}\\n→ Sentimento: {sentimento}\\n\")"
   ]
  }
 ],
 "metadata": {
  "kernelspec": {
   "display_name": "Python 3",
   "language": "python",
   "name": "python3"
  },
  "language_info": {
   "codemirror_mode": {
    "name": "ipython",
    "version": 3
   },
   "file_extension": ".py",
   "mimetype": "text/x-python",
   "name": "python",
   "nbconvert_exporter": "python",
   "pygments_lexer": "ipython3",
   "version": "3.10.12"
  }
 },
 "nbformat": 4,
 "nbformat_minor": 2
}
